{
 "cells": [
  {
   "cell_type": "markdown",
   "metadata": {
    "editable": true
   },
   "source": [
    "# Part I. ETL Pipeline for Pre-Processing the Files"
   ]
  },
  {
   "cell_type": "markdown",
   "metadata": {
    "editable": true
   },
   "source": [
    "## PLEASE RUN THE FOLLOWING CODE FOR PRE-PROCESSING THE FILES"
   ]
  },
  {
   "cell_type": "markdown",
   "metadata": {
    "editable": true
   },
   "source": [
    "#### Import Python packages "
   ]
  },
  {
   "cell_type": "code",
   "execution_count": 1,
   "metadata": {
    "editable": true
   },
   "outputs": [],
   "source": [
    "# Import Python packages \n",
    "import pandas as pd\n",
    "import cassandra\n",
    "import re\n",
    "import os\n",
    "import glob\n",
    "import numpy as np\n",
    "import json\n",
    "import csv"
   ]
  },
  {
   "cell_type": "markdown",
   "metadata": {
    "editable": true
   },
   "source": [
    "#### Creating list of filepaths to process original event csv data files"
   ]
  },
  {
   "cell_type": "code",
   "execution_count": 2,
   "metadata": {
    "editable": true
   },
   "outputs": [
    {
     "name": "stdout",
     "output_type": "stream",
     "text": [
      "/home/workspace\n"
     ]
    }
   ],
   "source": [
    "# checking your current working directory\n",
    "print(os.getcwd())\n",
    "\n",
    "# Get your current folder and subfolder event data\n",
    "filepath = os.getcwd() + '/event_data'\n",
    "\n",
    "# Create a for loop to create a list of files and collect each filepath\n",
    "for root, dirs, files in os.walk(filepath):\n",
    "    \n",
    "# join the file path and roots with the subdirectories using glob\n",
    "    file_path_list = glob.glob(os.path.join(root,'*'))\n",
    "    #print(file_path_list)"
   ]
  },
  {
   "cell_type": "markdown",
   "metadata": {
    "editable": true
   },
   "source": [
    "#### Processing the files to create the data file csv that will be used for Apache Casssandra tables"
   ]
  },
  {
   "cell_type": "code",
   "execution_count": 3,
   "metadata": {
    "editable": true
   },
   "outputs": [],
   "source": [
    "# initiating an empty list of rows that will be generated from each file\n",
    "full_data_rows_list = [] \n",
    "    \n",
    "# for every filepath in the file path list \n",
    "for f in file_path_list:\n",
    "\n",
    "# reading csv file \n",
    "    with open(f, 'r', encoding = 'utf8', newline='') as csvfile: \n",
    "        # creating a csv reader object \n",
    "        csvreader = csv.reader(csvfile) \n",
    "        next(csvreader)\n",
    "        \n",
    " # extracting each data row one by one and append it        \n",
    "        for line in csvreader:\n",
    "            full_data_rows_list.append(line) \n",
    "\n",
    "# creating a smaller event data csv file called event_datafile_full csv that will be used to insert data into the \\\n",
    "# Apache Cassandra tables\n",
    "csv.register_dialect('myDialect', quoting=csv.QUOTE_ALL, skipinitialspace=True)\n",
    "\n",
    "with open('event_datafile_new.csv', 'w', encoding = 'utf8', newline='') as f:\n",
    "    writer = csv.writer(f, dialect='myDialect')\n",
    "    writer.writerow(['artist','firstName','gender','itemInSession','lastName','length',\\\n",
    "                'level','location','sessionId','song','userId'])\n",
    "    for row in full_data_rows_list:\n",
    "        if (row[0] == ''):\n",
    "            continue\n",
    "        writer.writerow((row[0], row[2], row[3], row[4], row[5], row[6], row[7], row[8], row[12], row[13], row[16]))"
   ]
  },
  {
   "cell_type": "code",
   "execution_count": 4,
   "metadata": {
    "editable": true
   },
   "outputs": [
    {
     "name": "stdout",
     "output_type": "stream",
     "text": [
      "Total of rows in list: 8056 \n",
      "Total of row[0] is null: 1236 \n",
      "Total of row[0] is not null: 6820 \n",
      "Total of rows read: 8056\n",
      "Number of rows in csv file:  6820\n"
     ]
    }
   ],
   "source": [
    "# Verify the quantity of rows\n",
    "a = 0\n",
    "b = 0\n",
    "for row in full_data_rows_list:\n",
    "    if (row[0] == ''):\n",
    "        a += 1\n",
    "    elif (row[0] != ''):\n",
    "        b += 1\n",
    "\n",
    "print(\"Total of rows in list: {} \\nTotal of row[0] is null: {} \\nTotal of row[0] is not null: {} \\nTotal of rows read: {}\".format(len(full_data_rows_list), a, b, a+b))\n",
    "\n",
    "# check the number of rows in your csv file\n",
    "with open('event_datafile_new.csv', 'r', encoding = 'utf8') as f:\n",
    "    print(\"Number of rows in csv file: \", sum(1 for line in f)-1) # remove the header"
   ]
  },
  {
   "cell_type": "markdown",
   "metadata": {
    "editable": true
   },
   "source": [
    "# Part II. Complete the Apache Cassandra coding portion of your project. \n",
    "\n",
    "## Now you are ready to work with the CSV file titled <font color=red>event_datafile_new.csv</font>, located within the Workspace directory.  The event_datafile_new.csv contains the following columns: \n",
    "- artist \n",
    "- firstName of user\n",
    "- gender of user\n",
    "- item number in session\n",
    "- last name of user\n",
    "- length of the song\n",
    "- level (paid or free song)\n",
    "- location of the user\n",
    "- sessionId\n",
    "- song title\n",
    "- userId\n",
    "\n",
    "The image below is a screenshot of what the denormalized data should appear like in the <font color=red>**event_datafile_new.csv**</font> after the code above is run:<br>\n",
    "\n",
    "<img src=\"images/image_event_datafile_new.jpg\">"
   ]
  },
  {
   "cell_type": "markdown",
   "metadata": {
    "editable": true
   },
   "source": [
    "## Begin writing your Apache Cassandra code in the cells below"
   ]
  },
  {
   "cell_type": "markdown",
   "metadata": {
    "editable": true
   },
   "source": [
    "#### Creating a Cluster"
   ]
  },
  {
   "cell_type": "code",
   "execution_count": 5,
   "metadata": {
    "editable": true
   },
   "outputs": [],
   "source": [
    "# This should make a connection to a Cassandra instance your local machine \n",
    "from cassandra.cluster import Cluster\n",
    "try: \n",
    "    cluster = Cluster(['127.0.0.1'])\n",
    "    session = cluster.connect()\n",
    "except Exception as e:\n",
    "    print(e)\n",
    "\n",
    "# To establish connection and begin executing queries, need a session\n",
    "session = cluster.connect()"
   ]
  },
  {
   "cell_type": "markdown",
   "metadata": {
    "editable": true
   },
   "source": [
    "#### Create Keyspace"
   ]
  },
  {
   "cell_type": "code",
   "execution_count": 6,
   "metadata": {
    "editable": true
   },
   "outputs": [],
   "source": [
    "# Create a Keyspace \n",
    "try:\n",
    "    session.execute(\"\"\"\n",
    "    CREATE KEYSPACE IF NOT EXISTS sparkify \n",
    "    WITH REPLICATION = \n",
    "    { 'class' : 'SimpleStrategy', 'replication_factor' : 1 }\"\"\"\n",
    ")\n",
    "\n",
    "except Exception as e:\n",
    "    print(e)"
   ]
  },
  {
   "cell_type": "markdown",
   "metadata": {
    "editable": true
   },
   "source": [
    "#### Set Keyspace"
   ]
  },
  {
   "cell_type": "code",
   "execution_count": 7,
   "metadata": {
    "editable": true
   },
   "outputs": [],
   "source": [
    "# Set KEYSPACE to the keyspace specified above\n",
    "try:\n",
    "    session.set_keyspace('sparkify')\n",
    "except Exception as e:\n",
    "    print(e)"
   ]
  },
  {
   "cell_type": "markdown",
   "metadata": {
    "editable": true
   },
   "source": [
    "#### Create tables to run the following queries.  \n",
    "Remember, with Apache Cassandra you model the database tables on the queries you want to run.  \n",
    "\n",
    "Create queries to ask the following three questions of the data:  \n",
    "- ***Query 01:*** Give me the artist, song title and song's length in the music app history that was heard during  sessionId = 338, and itemInSession  = 4\n",
    "- ***Query 02:*** Give me only the following: name of artist, song (sorted by itemInSession) and user (first and last name) for userid = 10, sessionid = 182\n",
    "- ***Query 03:*** Give me every user name (first and last) in my music app history who listened to the song 'All Hands Against His Own'"
   ]
  },
  {
   "cell_type": "markdown",
   "metadata": {
    "editable": true
   },
   "source": [
    "#### Query 01 - ETL Pipeline Processing"
   ]
  },
  {
   "cell_type": "code",
   "execution_count": 8,
   "metadata": {
    "editable": true
   },
   "outputs": [
    {
     "data": {
      "text/html": [
       "<div>\n",
       "<style scoped>\n",
       "    .dataframe tbody tr th:only-of-type {\n",
       "        vertical-align: middle;\n",
       "    }\n",
       "\n",
       "    .dataframe tbody tr th {\n",
       "        vertical-align: top;\n",
       "    }\n",
       "\n",
       "    .dataframe thead th {\n",
       "        text-align: right;\n",
       "    }\n",
       "</style>\n",
       "<table border=\"1\" class=\"dataframe\">\n",
       "  <thead>\n",
       "    <tr style=\"text-align: right;\">\n",
       "      <th></th>\n",
       "      <th>artist</th>\n",
       "      <th>firstName</th>\n",
       "      <th>gender</th>\n",
       "      <th>itemInSession</th>\n",
       "      <th>lastName</th>\n",
       "      <th>length</th>\n",
       "      <th>level</th>\n",
       "      <th>location</th>\n",
       "      <th>sessionId</th>\n",
       "      <th>song</th>\n",
       "      <th>userId</th>\n",
       "    </tr>\n",
       "  </thead>\n",
       "  <tbody>\n",
       "    <tr>\n",
       "      <th>1071</th>\n",
       "      <td>The Killers</td>\n",
       "      <td>Alivia</td>\n",
       "      <td>F</td>\n",
       "      <td>1</td>\n",
       "      <td>Terrell</td>\n",
       "      <td>246.80444</td>\n",
       "      <td>free</td>\n",
       "      <td>Parkersburg-Vienna, WV</td>\n",
       "      <td>3</td>\n",
       "      <td>Read My Mind</td>\n",
       "      <td>4</td>\n",
       "    </tr>\n",
       "    <tr>\n",
       "      <th>3812</th>\n",
       "      <td>Kid Rock</td>\n",
       "      <td>Rylan</td>\n",
       "      <td>M</td>\n",
       "      <td>1</td>\n",
       "      <td>George</td>\n",
       "      <td>296.95955</td>\n",
       "      <td>free</td>\n",
       "      <td>Birmingham-Hoover, AL</td>\n",
       "      <td>15</td>\n",
       "      <td>All Summer Long (Album Version)</td>\n",
       "      <td>16</td>\n",
       "    </tr>\n",
       "    <tr>\n",
       "      <th>3814</th>\n",
       "      <td>The Killers</td>\n",
       "      <td>Rylan</td>\n",
       "      <td>M</td>\n",
       "      <td>2</td>\n",
       "      <td>George</td>\n",
       "      <td>220.89098</td>\n",
       "      <td>free</td>\n",
       "      <td>Birmingham-Hoover, AL</td>\n",
       "      <td>15</td>\n",
       "      <td>When You Were Young</td>\n",
       "      <td>16</td>\n",
       "    </tr>\n",
       "    <tr>\n",
       "      <th>3817</th>\n",
       "      <td>Trey Songz</td>\n",
       "      <td>Rylan</td>\n",
       "      <td>M</td>\n",
       "      <td>3</td>\n",
       "      <td>George</td>\n",
       "      <td>205.81832</td>\n",
       "      <td>free</td>\n",
       "      <td>Birmingham-Hoover, AL</td>\n",
       "      <td>15</td>\n",
       "      <td>Can't Help But Wait (Album Version)</td>\n",
       "      <td>16</td>\n",
       "    </tr>\n",
       "    <tr>\n",
       "      <th>3819</th>\n",
       "      <td>Billy J Kramer &amp; The Dakotas</td>\n",
       "      <td>Rylan</td>\n",
       "      <td>M</td>\n",
       "      <td>4</td>\n",
       "      <td>George</td>\n",
       "      <td>191.32036</td>\n",
       "      <td>free</td>\n",
       "      <td>Birmingham-Hoover, AL</td>\n",
       "      <td>15</td>\n",
       "      <td>Tennessee Waltz (Live)</td>\n",
       "      <td>16</td>\n",
       "    </tr>\n",
       "    <tr>\n",
       "      <th>3821</th>\n",
       "      <td>Dashboard Confessional</td>\n",
       "      <td>Rylan</td>\n",
       "      <td>M</td>\n",
       "      <td>5</td>\n",
       "      <td>George</td>\n",
       "      <td>224.54812</td>\n",
       "      <td>free</td>\n",
       "      <td>Birmingham-Hoover, AL</td>\n",
       "      <td>15</td>\n",
       "      <td>Ghost Of A Good Thing</td>\n",
       "      <td>16</td>\n",
       "    </tr>\n",
       "    <tr>\n",
       "      <th>5327</th>\n",
       "      <td>Sugarland</td>\n",
       "      <td>Cecilia</td>\n",
       "      <td>F</td>\n",
       "      <td>0</td>\n",
       "      <td>Owens</td>\n",
       "      <td>247.77098</td>\n",
       "      <td>free</td>\n",
       "      <td>Atlanta-Sandy Springs-Roswell, GA</td>\n",
       "      <td>5</td>\n",
       "      <td>Just Might (Make Me Believe)</td>\n",
       "      <td>6</td>\n",
       "    </tr>\n",
       "    <tr>\n",
       "      <th>5328</th>\n",
       "      <td>A Hope For Home</td>\n",
       "      <td>Cecilia</td>\n",
       "      <td>F</td>\n",
       "      <td>1</td>\n",
       "      <td>Owens</td>\n",
       "      <td>388.38812</td>\n",
       "      <td>free</td>\n",
       "      <td>Atlanta-Sandy Springs-Roswell, GA</td>\n",
       "      <td>5</td>\n",
       "      <td>Absolution: Of Flight and Failure</td>\n",
       "      <td>6</td>\n",
       "    </tr>\n",
       "    <tr>\n",
       "      <th>5787</th>\n",
       "      <td>Anne-Lie RydÃÂ©</td>\n",
       "      <td>Wyatt</td>\n",
       "      <td>M</td>\n",
       "      <td>0</td>\n",
       "      <td>Scott</td>\n",
       "      <td>176.90077</td>\n",
       "      <td>free</td>\n",
       "      <td>Eureka-Arcata-Fortuna, CA</td>\n",
       "      <td>8</td>\n",
       "      <td>SÃÂ¥n't ÃÂr Livet (You Can Have Her) (2002 ...</td>\n",
       "      <td>9</td>\n",
       "    </tr>\n",
       "    <tr>\n",
       "      <th>5788</th>\n",
       "      <td>The Smiths</td>\n",
       "      <td>Wyatt</td>\n",
       "      <td>M</td>\n",
       "      <td>1</td>\n",
       "      <td>Scott</td>\n",
       "      <td>242.91220</td>\n",
       "      <td>free</td>\n",
       "      <td>Eureka-Arcata-Fortuna, CA</td>\n",
       "      <td>8</td>\n",
       "      <td>There Is A Light That Never Goes Out</td>\n",
       "      <td>9</td>\n",
       "    </tr>\n",
       "    <tr>\n",
       "      <th>5789</th>\n",
       "      <td>Metallica</td>\n",
       "      <td>Wyatt</td>\n",
       "      <td>M</td>\n",
       "      <td>2</td>\n",
       "      <td>Scott</td>\n",
       "      <td>515.21261</td>\n",
       "      <td>free</td>\n",
       "      <td>Eureka-Arcata-Fortuna, CA</td>\n",
       "      <td>8</td>\n",
       "      <td>Master Of Puppets</td>\n",
       "      <td>9</td>\n",
       "    </tr>\n",
       "    <tr>\n",
       "      <th>5792</th>\n",
       "      <td>Juan Carlos Baglietto</td>\n",
       "      <td>Wyatt</td>\n",
       "      <td>M</td>\n",
       "      <td>3</td>\n",
       "      <td>Scott</td>\n",
       "      <td>221.80526</td>\n",
       "      <td>free</td>\n",
       "      <td>Eureka-Arcata-Fortuna, CA</td>\n",
       "      <td>8</td>\n",
       "      <td>Cuando</td>\n",
       "      <td>9</td>\n",
       "    </tr>\n",
       "    <tr>\n",
       "      <th>5793</th>\n",
       "      <td>Juan Carlos Baglietto</td>\n",
       "      <td>Wyatt</td>\n",
       "      <td>M</td>\n",
       "      <td>4</td>\n",
       "      <td>Scott</td>\n",
       "      <td>285.64853</td>\n",
       "      <td>free</td>\n",
       "      <td>Eureka-Arcata-Fortuna, CA</td>\n",
       "      <td>8</td>\n",
       "      <td>Era En Abril</td>\n",
       "      <td>9</td>\n",
       "    </tr>\n",
       "    <tr>\n",
       "      <th>5947</th>\n",
       "      <td>Black Eyed Peas</td>\n",
       "      <td>Sylvie</td>\n",
       "      <td>F</td>\n",
       "      <td>0</td>\n",
       "      <td>Cruz</td>\n",
       "      <td>214.93506</td>\n",
       "      <td>free</td>\n",
       "      <td>Washington-Arlington-Alexandria, DC-VA-MD-WV</td>\n",
       "      <td>9</td>\n",
       "      <td>Pump It</td>\n",
       "      <td>10</td>\n",
       "    </tr>\n",
       "    <tr>\n",
       "      <th>6417</th>\n",
       "      <td>Slipknot</td>\n",
       "      <td>Aiden</td>\n",
       "      <td>M</td>\n",
       "      <td>0</td>\n",
       "      <td>Ramirez</td>\n",
       "      <td>192.57424</td>\n",
       "      <td>paid</td>\n",
       "      <td>New York-Newark-Jersey City, NY-NJ-PA</td>\n",
       "      <td>19</td>\n",
       "      <td>Opium Of The People (Album Version)</td>\n",
       "      <td>20</td>\n",
       "    </tr>\n",
       "    <tr>\n",
       "      <th>6418</th>\n",
       "      <td>Cat Stevens</td>\n",
       "      <td>Aiden</td>\n",
       "      <td>M</td>\n",
       "      <td>1</td>\n",
       "      <td>Ramirez</td>\n",
       "      <td>170.57914</td>\n",
       "      <td>paid</td>\n",
       "      <td>New York-Newark-Jersey City, NY-NJ-PA</td>\n",
       "      <td>19</td>\n",
       "      <td>Don't Be Shy</td>\n",
       "      <td>20</td>\n",
       "    </tr>\n",
       "    <tr>\n",
       "      <th>6419</th>\n",
       "      <td>Collective Soul</td>\n",
       "      <td>Aiden</td>\n",
       "      <td>M</td>\n",
       "      <td>2</td>\n",
       "      <td>Ramirez</td>\n",
       "      <td>273.47546</td>\n",
       "      <td>paid</td>\n",
       "      <td>New York-Newark-Jersey City, NY-NJ-PA</td>\n",
       "      <td>19</td>\n",
       "      <td>Run (LP Version)</td>\n",
       "      <td>20</td>\n",
       "    </tr>\n",
       "    <tr>\n",
       "      <th>6420</th>\n",
       "      <td>Taylor Swift</td>\n",
       "      <td>Aiden</td>\n",
       "      <td>M</td>\n",
       "      <td>3</td>\n",
       "      <td>Ramirez</td>\n",
       "      <td>233.89995</td>\n",
       "      <td>paid</td>\n",
       "      <td>New York-Newark-Jersey City, NY-NJ-PA</td>\n",
       "      <td>19</td>\n",
       "      <td>Love Story</td>\n",
       "      <td>20</td>\n",
       "    </tr>\n",
       "    <tr>\n",
       "      <th>6421</th>\n",
       "      <td>The Dixie Cups</td>\n",
       "      <td>Aiden</td>\n",
       "      <td>M</td>\n",
       "      <td>4</td>\n",
       "      <td>Ramirez</td>\n",
       "      <td>120.05832</td>\n",
       "      <td>paid</td>\n",
       "      <td>New York-Newark-Jersey City, NY-NJ-PA</td>\n",
       "      <td>19</td>\n",
       "      <td>Iko Iko</td>\n",
       "      <td>20</td>\n",
       "    </tr>\n",
       "    <tr>\n",
       "      <th>6422</th>\n",
       "      <td>Carlos Santana &amp; Mahavishnu John McLaughlin</td>\n",
       "      <td>Aiden</td>\n",
       "      <td>M</td>\n",
       "      <td>5</td>\n",
       "      <td>Ramirez</td>\n",
       "      <td>157.93587</td>\n",
       "      <td>paid</td>\n",
       "      <td>New York-Newark-Jersey City, NY-NJ-PA</td>\n",
       "      <td>19</td>\n",
       "      <td>Meditation</td>\n",
       "      <td>20</td>\n",
       "    </tr>\n",
       "    <tr>\n",
       "      <th>6423</th>\n",
       "      <td>Pixies</td>\n",
       "      <td>Aiden</td>\n",
       "      <td>M</td>\n",
       "      <td>6</td>\n",
       "      <td>Ramirez</td>\n",
       "      <td>280.00608</td>\n",
       "      <td>paid</td>\n",
       "      <td>New York-Newark-Jersey City, NY-NJ-PA</td>\n",
       "      <td>19</td>\n",
       "      <td>Into The White</td>\n",
       "      <td>20</td>\n",
       "    </tr>\n",
       "    <tr>\n",
       "      <th>6424</th>\n",
       "      <td>Antimatter</td>\n",
       "      <td>Aiden</td>\n",
       "      <td>M</td>\n",
       "      <td>7</td>\n",
       "      <td>Ramirez</td>\n",
       "      <td>245.52444</td>\n",
       "      <td>paid</td>\n",
       "      <td>New York-Newark-Jersey City, NY-NJ-PA</td>\n",
       "      <td>19</td>\n",
       "      <td>Lights Out</td>\n",
       "      <td>20</td>\n",
       "    </tr>\n",
       "    <tr>\n",
       "      <th>6425</th>\n",
       "      <td>Rihanna</td>\n",
       "      <td>Christian</td>\n",
       "      <td>F</td>\n",
       "      <td>1</td>\n",
       "      <td>Porter</td>\n",
       "      <td>293.82485</td>\n",
       "      <td>free</td>\n",
       "      <td>Elkhart-Goshen, IN</td>\n",
       "      <td>10</td>\n",
       "      <td>Rehab</td>\n",
       "      <td>11</td>\n",
       "    </tr>\n",
       "    <tr>\n",
       "      <th>6426</th>\n",
       "      <td>Soda Stereo</td>\n",
       "      <td>Aiden</td>\n",
       "      <td>M</td>\n",
       "      <td>8</td>\n",
       "      <td>Ramirez</td>\n",
       "      <td>186.69669</td>\n",
       "      <td>paid</td>\n",
       "      <td>New York-Newark-Jersey City, NY-NJ-PA</td>\n",
       "      <td>19</td>\n",
       "      <td>ObservÃÂ¡ndonos (SatÃÂ©lites)</td>\n",
       "      <td>20</td>\n",
       "    </tr>\n",
       "  </tbody>\n",
       "</table>\n",
       "</div>"
      ],
      "text/plain": [
       "                                           artist  firstName gender  \\\n",
       "1071                                  The Killers     Alivia      F   \n",
       "3812                                     Kid Rock      Rylan      M   \n",
       "3814                                  The Killers      Rylan      M   \n",
       "3817                                   Trey Songz      Rylan      M   \n",
       "3819                 Billy J Kramer & The Dakotas      Rylan      M   \n",
       "3821                       Dashboard Confessional      Rylan      M   \n",
       "5327                                    Sugarland    Cecilia      F   \n",
       "5328                              A Hope For Home    Cecilia      F   \n",
       "5787                             Anne-Lie RydÃÂ©      Wyatt      M   \n",
       "5788                                   The Smiths      Wyatt      M   \n",
       "5789                                    Metallica      Wyatt      M   \n",
       "5792                        Juan Carlos Baglietto      Wyatt      M   \n",
       "5793                        Juan Carlos Baglietto      Wyatt      M   \n",
       "5947                              Black Eyed Peas     Sylvie      F   \n",
       "6417                                     Slipknot      Aiden      M   \n",
       "6418                                  Cat Stevens      Aiden      M   \n",
       "6419                              Collective Soul      Aiden      M   \n",
       "6420                                 Taylor Swift      Aiden      M   \n",
       "6421                               The Dixie Cups      Aiden      M   \n",
       "6422  Carlos Santana & Mahavishnu John McLaughlin      Aiden      M   \n",
       "6423                                       Pixies      Aiden      M   \n",
       "6424                                   Antimatter      Aiden      M   \n",
       "6425                                      Rihanna  Christian      F   \n",
       "6426                                  Soda Stereo      Aiden      M   \n",
       "\n",
       "      itemInSession lastName     length level  \\\n",
       "1071              1  Terrell  246.80444  free   \n",
       "3812              1   George  296.95955  free   \n",
       "3814              2   George  220.89098  free   \n",
       "3817              3   George  205.81832  free   \n",
       "3819              4   George  191.32036  free   \n",
       "3821              5   George  224.54812  free   \n",
       "5327              0    Owens  247.77098  free   \n",
       "5328              1    Owens  388.38812  free   \n",
       "5787              0    Scott  176.90077  free   \n",
       "5788              1    Scott  242.91220  free   \n",
       "5789              2    Scott  515.21261  free   \n",
       "5792              3    Scott  221.80526  free   \n",
       "5793              4    Scott  285.64853  free   \n",
       "5947              0     Cruz  214.93506  free   \n",
       "6417              0  Ramirez  192.57424  paid   \n",
       "6418              1  Ramirez  170.57914  paid   \n",
       "6419              2  Ramirez  273.47546  paid   \n",
       "6420              3  Ramirez  233.89995  paid   \n",
       "6421              4  Ramirez  120.05832  paid   \n",
       "6422              5  Ramirez  157.93587  paid   \n",
       "6423              6  Ramirez  280.00608  paid   \n",
       "6424              7  Ramirez  245.52444  paid   \n",
       "6425              1   Porter  293.82485  free   \n",
       "6426              8  Ramirez  186.69669  paid   \n",
       "\n",
       "                                          location  sessionId  \\\n",
       "1071                        Parkersburg-Vienna, WV          3   \n",
       "3812                         Birmingham-Hoover, AL         15   \n",
       "3814                         Birmingham-Hoover, AL         15   \n",
       "3817                         Birmingham-Hoover, AL         15   \n",
       "3819                         Birmingham-Hoover, AL         15   \n",
       "3821                         Birmingham-Hoover, AL         15   \n",
       "5327             Atlanta-Sandy Springs-Roswell, GA          5   \n",
       "5328             Atlanta-Sandy Springs-Roswell, GA          5   \n",
       "5787                     Eureka-Arcata-Fortuna, CA          8   \n",
       "5788                     Eureka-Arcata-Fortuna, CA          8   \n",
       "5789                     Eureka-Arcata-Fortuna, CA          8   \n",
       "5792                     Eureka-Arcata-Fortuna, CA          8   \n",
       "5793                     Eureka-Arcata-Fortuna, CA          8   \n",
       "5947  Washington-Arlington-Alexandria, DC-VA-MD-WV          9   \n",
       "6417         New York-Newark-Jersey City, NY-NJ-PA         19   \n",
       "6418         New York-Newark-Jersey City, NY-NJ-PA         19   \n",
       "6419         New York-Newark-Jersey City, NY-NJ-PA         19   \n",
       "6420         New York-Newark-Jersey City, NY-NJ-PA         19   \n",
       "6421         New York-Newark-Jersey City, NY-NJ-PA         19   \n",
       "6422         New York-Newark-Jersey City, NY-NJ-PA         19   \n",
       "6423         New York-Newark-Jersey City, NY-NJ-PA         19   \n",
       "6424         New York-Newark-Jersey City, NY-NJ-PA         19   \n",
       "6425                            Elkhart-Goshen, IN         10   \n",
       "6426         New York-Newark-Jersey City, NY-NJ-PA         19   \n",
       "\n",
       "                                                   song  userId  \n",
       "1071                                       Read My Mind       4  \n",
       "3812                    All Summer Long (Album Version)      16  \n",
       "3814                                When You Were Young      16  \n",
       "3817                Can't Help But Wait (Album Version)      16  \n",
       "3819                             Tennessee Waltz (Live)      16  \n",
       "3821                              Ghost Of A Good Thing      16  \n",
       "5327                       Just Might (Make Me Believe)       6  \n",
       "5328                  Absolution: Of Flight and Failure       6  \n",
       "5787  SÃÂ¥n't ÃÂr Livet (You Can Have Her) (2002 ...       9  \n",
       "5788               There Is A Light That Never Goes Out       9  \n",
       "5789                                  Master Of Puppets       9  \n",
       "5792                                             Cuando       9  \n",
       "5793                                       Era En Abril       9  \n",
       "5947                                            Pump It      10  \n",
       "6417                Opium Of The People (Album Version)      20  \n",
       "6418                                       Don't Be Shy      20  \n",
       "6419                                   Run (LP Version)      20  \n",
       "6420                                         Love Story      20  \n",
       "6421                                            Iko Iko      20  \n",
       "6422                                         Meditation      20  \n",
       "6423                                     Into The White      20  \n",
       "6424                                         Lights Out      20  \n",
       "6425                                              Rehab      11  \n",
       "6426                    ObservÃÂ¡ndonos (SatÃÂ©lites)      20  "
      ]
     },
     "execution_count": 8,
     "metadata": {},
     "output_type": "execute_result"
    }
   ],
   "source": [
    "# STEP 01 - ANALYZE the data\n",
    "# Analyze the data in event_datafile_new.csv to identify the necessary columns for primary key in query 01\n",
    "file = 'event_datafile_new.csv'\n",
    "event_df = pd.read_csv(file)\n",
    "\n",
    "# Analyze the necessary columns for primary key in query 01\n",
    "event_df.query('sessionId in (3, 5, 8, 9, 10, 15, 19)')"
   ]
  },
  {
   "cell_type": "markdown",
   "metadata": {
    "editable": true
   },
   "source": [
    "#### Primary Key identify each row because:\n",
    " - One userId can have many sessionId's\n",
    " - Each sessionId is unique\n",
    " - If userId listened to the same song in same sessionId then the itemInSession's are differents\n",
    " - The sessionId is the partition key, and item_in_session is the clustering column to make each Primary Key unique\n",
    " \n",
    " In this case session_id and item_in_session identify each row in this table."
   ]
  },
  {
   "cell_type": "code",
   "execution_count": 9,
   "metadata": {
    "editable": true
   },
   "outputs": [],
   "source": [
    "# STEP 02 - CREATE table for query 01\n",
    "# Query 01: artist, song and length where sessionId = 338 and itemInSession = 4\n",
    "query = \"CREATE TABLE IF NOT EXISTS song_session \"\n",
    "query = query + \"(session_id int, item_in_session int, song_title text, song_length double, artist_name text, PRIMARY KEY (session_id, item_in_session))\"\n",
    "try:\n",
    "    session.execute(query)\n",
    "except Exception as e:\n",
    "    print(e)           "
   ]
  },
  {
   "cell_type": "code",
   "execution_count": 10,
   "metadata": {
    "editable": true
   },
   "outputs": [],
   "source": [
    "# STEP 03 - INSERT data into table\n",
    "with open(file, encoding = 'utf8') as f:\n",
    "    csvreader = csv.reader(f)\n",
    "    next(csvreader) # skip header\n",
    "    for line in csvreader:\n",
    "# Assign the INSERT statements into the `query` variable\n",
    "        query = \"INSERT INTO song_session (session_id, item_in_session, song_title, song_length, artist_name)\"\n",
    "        query = query + \" VALUES (%s, %s, %s, %s, %s)\"\n",
    "        session.execute(query, (int(line[8]), int(line[3]), line[9], float(line[5]), line[0]))"
   ]
  },
  {
   "cell_type": "code",
   "execution_count": 11,
   "metadata": {
    "editable": true
   },
   "outputs": [
    {
     "name": "stdout",
     "output_type": "stream",
     "text": [
      "Row(tt=6820)\n"
     ]
    }
   ],
   "source": [
    "# STEP 04 - VALIDATION - VERIFY total of rows LOADED\n",
    "query_count = \"select count(*) as tt from song_session\"\n",
    "try:\n",
    "    rows = session.execute(query_count)\n",
    "except Exception as e:\n",
    "    print(e)\n",
    "\n",
    "for row in rows:\n",
    "    print (row)"
   ]
  },
  {
   "cell_type": "code",
   "execution_count": 12,
   "metadata": {
    "editable": true,
    "scrolled": true
   },
   "outputs": [
    {
     "name": "stdout",
     "output_type": "stream",
     "text": [
      "Music Matters (Mark Knight Dub)  -  495.3073  -  Faithless  -  338  -  4\n"
     ]
    }
   ],
   "source": [
    "# STEP 05 - VALIDATION - VERIFY spcific information in table\n",
    "query = \"select * from song_session WHERE session_id = 338 and item_in_session = 4\"\n",
    "try:\n",
    "    rows = session.execute(query)\n",
    "except Exception as e:\n",
    "    print(e)\n",
    "\n",
    "for row in rows:\n",
    "    print (row.song_title, ' - ', row.song_length, ' - ', row.artist_name, ' - ', row.session_id, ' - ', row.item_in_session)"
   ]
  },
  {
   "cell_type": "code",
   "execution_count": 13,
   "metadata": {
    "editable": true
   },
   "outputs": [
    {
     "data": {
      "text/html": [
       "<div>\n",
       "<style scoped>\n",
       "    .dataframe tbody tr th:only-of-type {\n",
       "        vertical-align: middle;\n",
       "    }\n",
       "\n",
       "    .dataframe tbody tr th {\n",
       "        vertical-align: top;\n",
       "    }\n",
       "\n",
       "    .dataframe thead th {\n",
       "        text-align: right;\n",
       "    }\n",
       "</style>\n",
       "<table border=\"1\" class=\"dataframe\">\n",
       "  <thead>\n",
       "    <tr style=\"text-align: right;\">\n",
       "      <th></th>\n",
       "      <th>song</th>\n",
       "      <th>length</th>\n",
       "      <th>artist</th>\n",
       "      <th>sessionId</th>\n",
       "      <th>itemInSession</th>\n",
       "    </tr>\n",
       "  </thead>\n",
       "  <tbody>\n",
       "    <tr>\n",
       "      <th>5810</th>\n",
       "      <td>Music Matters (Mark Knight Dub)</td>\n",
       "      <td>495.3073</td>\n",
       "      <td>Faithless</td>\n",
       "      <td>338</td>\n",
       "      <td>4</td>\n",
       "    </tr>\n",
       "  </tbody>\n",
       "</table>\n",
       "</div>"
      ],
      "text/plain": [
       "                                 song    length     artist  sessionId  \\\n",
       "5810  Music Matters (Mark Knight Dub)  495.3073  Faithless        338   \n",
       "\n",
       "      itemInSession  \n",
       "5810              4  "
      ]
     },
     "execution_count": 13,
     "metadata": {},
     "output_type": "execute_result"
    }
   ],
   "source": [
    "# STEP 06 - VALIDATION - VERIFY spcific information in df origin\n",
    "event_df = pd.read_csv(file)\n",
    "columns = ['song', 'length', 'artist', 'sessionId', 'itemInSession']\n",
    "song_df = event_df[columns]\n",
    "\n",
    "song_df.query('sessionId == 338 and itemInSession == 4')"
   ]
  },
  {
   "cell_type": "markdown",
   "metadata": {
    "editable": true
   },
   "source": [
    "#### Query 02 - ETL Pipeline Processing"
   ]
  },
  {
   "cell_type": "code",
   "execution_count": 14,
   "metadata": {
    "editable": true
   },
   "outputs": [
    {
     "data": {
      "text/html": [
       "<div>\n",
       "<style scoped>\n",
       "    .dataframe tbody tr th:only-of-type {\n",
       "        vertical-align: middle;\n",
       "    }\n",
       "\n",
       "    .dataframe tbody tr th {\n",
       "        vertical-align: top;\n",
       "    }\n",
       "\n",
       "    .dataframe thead th {\n",
       "        text-align: right;\n",
       "    }\n",
       "</style>\n",
       "<table border=\"1\" class=\"dataframe\">\n",
       "  <thead>\n",
       "    <tr style=\"text-align: right;\">\n",
       "      <th></th>\n",
       "      <th>artist</th>\n",
       "      <th>firstName</th>\n",
       "      <th>gender</th>\n",
       "      <th>itemInSession</th>\n",
       "      <th>lastName</th>\n",
       "      <th>length</th>\n",
       "      <th>level</th>\n",
       "      <th>location</th>\n",
       "      <th>sessionId</th>\n",
       "      <th>song</th>\n",
       "      <th>userId</th>\n",
       "    </tr>\n",
       "  </thead>\n",
       "  <tbody>\n",
       "    <tr>\n",
       "      <th>5607</th>\n",
       "      <td>Divinyls</td>\n",
       "      <td>Zachary</td>\n",
       "      <td>M</td>\n",
       "      <td>0</td>\n",
       "      <td>Thomas</td>\n",
       "      <td>227.68281</td>\n",
       "      <td>free</td>\n",
       "      <td>New York-Newark-Jersey City, NY-NJ-PA</td>\n",
       "      <td>592</td>\n",
       "      <td>I Touch Myself</td>\n",
       "      <td>19</td>\n",
       "    </tr>\n",
       "    <tr>\n",
       "      <th>5609</th>\n",
       "      <td>Drowning Pool</td>\n",
       "      <td>Zachary</td>\n",
       "      <td>M</td>\n",
       "      <td>1</td>\n",
       "      <td>Thomas</td>\n",
       "      <td>229.35465</td>\n",
       "      <td>free</td>\n",
       "      <td>New York-Newark-Jersey City, NY-NJ-PA</td>\n",
       "      <td>592</td>\n",
       "      <td>Reason I'm Alive (Explicit)</td>\n",
       "      <td>19</td>\n",
       "    </tr>\n",
       "    <tr>\n",
       "      <th>5610</th>\n",
       "      <td>Brujeria</td>\n",
       "      <td>Zachary</td>\n",
       "      <td>M</td>\n",
       "      <td>2</td>\n",
       "      <td>Thomas</td>\n",
       "      <td>143.25506</td>\n",
       "      <td>free</td>\n",
       "      <td>New York-Newark-Jersey City, NY-NJ-PA</td>\n",
       "      <td>592</td>\n",
       "      <td>Pititis_ Te Invoco (Album Version)</td>\n",
       "      <td>19</td>\n",
       "    </tr>\n",
       "    <tr>\n",
       "      <th>5611</th>\n",
       "      <td>Joyce Cooling</td>\n",
       "      <td>Zachary</td>\n",
       "      <td>M</td>\n",
       "      <td>3</td>\n",
       "      <td>Thomas</td>\n",
       "      <td>248.11057</td>\n",
       "      <td>free</td>\n",
       "      <td>New York-Newark-Jersey City, NY-NJ-PA</td>\n",
       "      <td>592</td>\n",
       "      <td>It's Time I Go (Jazz)</td>\n",
       "      <td>19</td>\n",
       "    </tr>\n",
       "    <tr>\n",
       "      <th>5612</th>\n",
       "      <td>The White Stripes</td>\n",
       "      <td>Zachary</td>\n",
       "      <td>M</td>\n",
       "      <td>4</td>\n",
       "      <td>Thomas</td>\n",
       "      <td>160.31302</td>\n",
       "      <td>free</td>\n",
       "      <td>New York-Newark-Jersey City, NY-NJ-PA</td>\n",
       "      <td>592</td>\n",
       "      <td>Blue Orchid</td>\n",
       "      <td>19</td>\n",
       "    </tr>\n",
       "    <tr>\n",
       "      <th>5613</th>\n",
       "      <td>R.I.O.</td>\n",
       "      <td>Zachary</td>\n",
       "      <td>M</td>\n",
       "      <td>5</td>\n",
       "      <td>Thomas</td>\n",
       "      <td>217.12934</td>\n",
       "      <td>free</td>\n",
       "      <td>New York-Newark-Jersey City, NY-NJ-PA</td>\n",
       "      <td>592</td>\n",
       "      <td>When The Sun Comes Down</td>\n",
       "      <td>19</td>\n",
       "    </tr>\n",
       "    <tr>\n",
       "      <th>5614</th>\n",
       "      <td>Bap</td>\n",
       "      <td>Zachary</td>\n",
       "      <td>M</td>\n",
       "      <td>6</td>\n",
       "      <td>Thomas</td>\n",
       "      <td>277.21098</td>\n",
       "      <td>free</td>\n",
       "      <td>New York-Newark-Jersey City, NY-NJ-PA</td>\n",
       "      <td>592</td>\n",
       "      <td>FÃÂ¼r Maria (Album Version)</td>\n",
       "      <td>19</td>\n",
       "    </tr>\n",
       "  </tbody>\n",
       "</table>\n",
       "</div>"
      ],
      "text/plain": [
       "                 artist firstName gender  itemInSession lastName     length  \\\n",
       "5607           Divinyls   Zachary      M              0   Thomas  227.68281   \n",
       "5609      Drowning Pool   Zachary      M              1   Thomas  229.35465   \n",
       "5610           Brujeria   Zachary      M              2   Thomas  143.25506   \n",
       "5611      Joyce Cooling   Zachary      M              3   Thomas  248.11057   \n",
       "5612  The White Stripes   Zachary      M              4   Thomas  160.31302   \n",
       "5613             R.I.O.   Zachary      M              5   Thomas  217.12934   \n",
       "5614                Bap   Zachary      M              6   Thomas  277.21098   \n",
       "\n",
       "     level                               location  sessionId  \\\n",
       "5607  free  New York-Newark-Jersey City, NY-NJ-PA        592   \n",
       "5609  free  New York-Newark-Jersey City, NY-NJ-PA        592   \n",
       "5610  free  New York-Newark-Jersey City, NY-NJ-PA        592   \n",
       "5611  free  New York-Newark-Jersey City, NY-NJ-PA        592   \n",
       "5612  free  New York-Newark-Jersey City, NY-NJ-PA        592   \n",
       "5613  free  New York-Newark-Jersey City, NY-NJ-PA        592   \n",
       "5614  free  New York-Newark-Jersey City, NY-NJ-PA        592   \n",
       "\n",
       "                                    song  userId  \n",
       "5607                      I Touch Myself      19  \n",
       "5609         Reason I'm Alive (Explicit)      19  \n",
       "5610  Pititis_ Te Invoco (Album Version)      19  \n",
       "5611               It's Time I Go (Jazz)      19  \n",
       "5612                         Blue Orchid      19  \n",
       "5613             When The Sun Comes Down      19  \n",
       "5614        FÃÂ¼r Maria (Album Version)      19  "
      ]
     },
     "execution_count": 14,
     "metadata": {},
     "output_type": "execute_result"
    }
   ],
   "source": [
    "# STEP 01 - ANALYZE the data\n",
    "# Analyze the necessary columns for primary key in query 02\n",
    "event_df.query('userId == 19 and sessionId == 592')"
   ]
  },
  {
   "cell_type": "markdown",
   "metadata": {
    "editable": true
   },
   "source": [
    "#### Primary Key identify each row because:\n",
    " - One userId can have many sessionId's\n",
    " - Each sessionId is unique\n",
    " - In sessionId the itemInSession's are differents for each song\n",
    " - The userId is the partition key, and from there I will add clustering columns on sessionId and itemInSession\n",
    " \n",
    " In this case userId, sessionId and itemInSession identify each row in this table."
   ]
  },
  {
   "cell_type": "code",
   "execution_count": 15,
   "metadata": {
    "editable": true
   },
   "outputs": [],
   "source": [
    "# STEP 02 - CREATE table for query 02\n",
    "## Query 2: artist, song (sorted by itemInSession), user (first and last name) where userid = 10, sessionid = 182\n",
    "\n",
    "query = \"CREATE TABLE IF NOT EXISTS user_session \"\n",
    "query = query + \"(user_id int, session_id int, item_in_session int, user_name text, user_last_name text, artist_name text, song_title text, PRIMARY KEY (user_id, session_id, item_in_session))\"\n",
    "try:\n",
    "    session.execute(query)\n",
    "except Exception as e:\n",
    "    print(e)"
   ]
  },
  {
   "cell_type": "code",
   "execution_count": 16,
   "metadata": {
    "editable": true
   },
   "outputs": [],
   "source": [
    "# STEP 03 - INSERT data into table\n",
    "with open(file, encoding = 'utf8') as f:\n",
    "    csvreader = csv.reader(f)\n",
    "    next(csvreader) # skip header\n",
    "    for line in csvreader:\n",
    "# Assign the INSERT statements into the `query` variable\n",
    "        query = \"INSERT INTO user_session (user_id, session_id, item_in_session, user_name, user_last_name, artist_name, song_title)\"\n",
    "        query = query + \" VALUES (%s, %s, %s, %s, %s, %s, %s)\"\n",
    "        session.execute(query, (int(line[10]), int(line[8]), int(line[3]), line[1], line[4], line[0], line[9]))"
   ]
  },
  {
   "cell_type": "code",
   "execution_count": 17,
   "metadata": {
    "editable": true
   },
   "outputs": [
    {
     "name": "stdout",
     "output_type": "stream",
     "text": [
      "Row(tt=6820)\n"
     ]
    }
   ],
   "source": [
    "# STEP 04 - VALIDATION - VERIFY total of rows LOADED\n",
    "query_count = \"select count(*) as tt from user_session\"\n",
    "try:\n",
    "    rows = session.execute(query_count)\n",
    "except Exception as e:\n",
    "    print(e)\n",
    "\n",
    "for row in rows:\n",
    "    print (row)"
   ]
  },
  {
   "cell_type": "code",
   "execution_count": 18,
   "metadata": {
    "editable": true
   },
   "outputs": [
    {
     "name": "stdout",
     "output_type": "stream",
     "text": [
      "Down To The Bone  -  Keep On Keepin' On  -  Sylvie  -  Cruz  -  0\n",
      "Three Drives  -  Greece 2000  -  Sylvie  -  Cruz  -  1\n",
      "Sebastien Tellier  -  Kilometer  -  Sylvie  -  Cruz  -  2\n",
      "Lonnie Gordon  -  Catch You Baby (Steve Pitron & Max Sanna Radio Edit)  -  Sylvie  -  Cruz  -  3\n"
     ]
    }
   ],
   "source": [
    "# STEP 05 - VALIDATION - VERIFY spcific information in table\n",
    "query = \"select artist_name, song_title, user_name, user_last_name, item_in_session from user_session WHERE user_id = 10 and session_id = 182\"\n",
    "try:\n",
    "    rows = session.execute(query)\n",
    "except Exception as e:\n",
    "    print(e)\n",
    "\n",
    "for row in rows:\n",
    "    print (row.artist_name,' - ', row.song_title,' - ', row.user_name, ' - ', row.user_last_name,' - ', row.item_in_session)"
   ]
  },
  {
   "cell_type": "code",
   "execution_count": 19,
   "metadata": {
    "editable": true
   },
   "outputs": [
    {
     "data": {
      "text/html": [
       "<div>\n",
       "<style scoped>\n",
       "    .dataframe tbody tr th:only-of-type {\n",
       "        vertical-align: middle;\n",
       "    }\n",
       "\n",
       "    .dataframe tbody tr th {\n",
       "        vertical-align: top;\n",
       "    }\n",
       "\n",
       "    .dataframe thead th {\n",
       "        text-align: right;\n",
       "    }\n",
       "</style>\n",
       "<table border=\"1\" class=\"dataframe\">\n",
       "  <thead>\n",
       "    <tr style=\"text-align: right;\">\n",
       "      <th></th>\n",
       "      <th>artist</th>\n",
       "      <th>song</th>\n",
       "      <th>firstName</th>\n",
       "      <th>lastName</th>\n",
       "      <th>itemInSession</th>\n",
       "      <th>userId</th>\n",
       "      <th>sessionId</th>\n",
       "    </tr>\n",
       "  </thead>\n",
       "  <tbody>\n",
       "    <tr>\n",
       "      <th>6805</th>\n",
       "      <td>Down To The Bone</td>\n",
       "      <td>Keep On Keepin' On</td>\n",
       "      <td>Sylvie</td>\n",
       "      <td>Cruz</td>\n",
       "      <td>0</td>\n",
       "      <td>10</td>\n",
       "      <td>182</td>\n",
       "    </tr>\n",
       "    <tr>\n",
       "      <th>6806</th>\n",
       "      <td>Three Drives</td>\n",
       "      <td>Greece 2000</td>\n",
       "      <td>Sylvie</td>\n",
       "      <td>Cruz</td>\n",
       "      <td>1</td>\n",
       "      <td>10</td>\n",
       "      <td>182</td>\n",
       "    </tr>\n",
       "    <tr>\n",
       "      <th>6807</th>\n",
       "      <td>Sebastien Tellier</td>\n",
       "      <td>Kilometer</td>\n",
       "      <td>Sylvie</td>\n",
       "      <td>Cruz</td>\n",
       "      <td>2</td>\n",
       "      <td>10</td>\n",
       "      <td>182</td>\n",
       "    </tr>\n",
       "    <tr>\n",
       "      <th>6808</th>\n",
       "      <td>Lonnie Gordon</td>\n",
       "      <td>Catch You Baby (Steve Pitron &amp; Max Sanna Radio...</td>\n",
       "      <td>Sylvie</td>\n",
       "      <td>Cruz</td>\n",
       "      <td>3</td>\n",
       "      <td>10</td>\n",
       "      <td>182</td>\n",
       "    </tr>\n",
       "  </tbody>\n",
       "</table>\n",
       "</div>"
      ],
      "text/plain": [
       "                 artist                                               song  \\\n",
       "6805   Down To The Bone                                 Keep On Keepin' On   \n",
       "6806       Three Drives                                        Greece 2000   \n",
       "6807  Sebastien Tellier                                          Kilometer   \n",
       "6808      Lonnie Gordon  Catch You Baby (Steve Pitron & Max Sanna Radio...   \n",
       "\n",
       "     firstName lastName  itemInSession  userId  sessionId  \n",
       "6805    Sylvie     Cruz              0      10        182  \n",
       "6806    Sylvie     Cruz              1      10        182  \n",
       "6807    Sylvie     Cruz              2      10        182  \n",
       "6808    Sylvie     Cruz              3      10        182  "
      ]
     },
     "execution_count": 19,
     "metadata": {},
     "output_type": "execute_result"
    }
   ],
   "source": [
    "# STEP 06 - VALIDATION - VERIFY spcific information in df origin\n",
    "event_df.head()\n",
    "columns = ['artist', 'song', 'firstName', 'lastName', 'itemInSession', 'userId', 'sessionId']\n",
    "user_df = event_df[columns]\n",
    "\n",
    "user_df.query('userId == 10 and sessionId == 182')"
   ]
  },
  {
   "cell_type": "markdown",
   "metadata": {
    "editable": true
   },
   "source": [
    "#### Query 03 - ETL Pipeline Processing"
   ]
  },
  {
   "cell_type": "code",
   "execution_count": 20,
   "metadata": {
    "editable": true
   },
   "outputs": [
    {
     "data": {
      "text/html": [
       "<div>\n",
       "<style scoped>\n",
       "    .dataframe tbody tr th:only-of-type {\n",
       "        vertical-align: middle;\n",
       "    }\n",
       "\n",
       "    .dataframe tbody tr th {\n",
       "        vertical-align: top;\n",
       "    }\n",
       "\n",
       "    .dataframe thead th {\n",
       "        text-align: right;\n",
       "    }\n",
       "</style>\n",
       "<table border=\"1\" class=\"dataframe\">\n",
       "  <thead>\n",
       "    <tr style=\"text-align: right;\">\n",
       "      <th></th>\n",
       "      <th>artist</th>\n",
       "      <th>firstName</th>\n",
       "      <th>gender</th>\n",
       "      <th>itemInSession</th>\n",
       "      <th>lastName</th>\n",
       "      <th>length</th>\n",
       "      <th>level</th>\n",
       "      <th>location</th>\n",
       "      <th>sessionId</th>\n",
       "      <th>song</th>\n",
       "      <th>userId</th>\n",
       "    </tr>\n",
       "  </thead>\n",
       "  <tbody>\n",
       "    <tr>\n",
       "      <th>1313</th>\n",
       "      <td>The Black Keys</td>\n",
       "      <td>Jacqueline</td>\n",
       "      <td>F</td>\n",
       "      <td>50</td>\n",
       "      <td>Lynch</td>\n",
       "      <td>196.91057</td>\n",
       "      <td>paid</td>\n",
       "      <td>Atlanta-Sandy Springs-Roswell, GA</td>\n",
       "      <td>559</td>\n",
       "      <td>All Hands Against His Own</td>\n",
       "      <td>29</td>\n",
       "    </tr>\n",
       "    <tr>\n",
       "      <th>1839</th>\n",
       "      <td>The Black Keys</td>\n",
       "      <td>Tegan</td>\n",
       "      <td>F</td>\n",
       "      <td>25</td>\n",
       "      <td>Levine</td>\n",
       "      <td>196.91057</td>\n",
       "      <td>paid</td>\n",
       "      <td>Portland-South Portland, ME</td>\n",
       "      <td>611</td>\n",
       "      <td>All Hands Against His Own</td>\n",
       "      <td>80</td>\n",
       "    </tr>\n",
       "    <tr>\n",
       "      <th>5282</th>\n",
       "      <td>The Black Keys</td>\n",
       "      <td>Sara</td>\n",
       "      <td>F</td>\n",
       "      <td>31</td>\n",
       "      <td>Johnson</td>\n",
       "      <td>196.91057</td>\n",
       "      <td>paid</td>\n",
       "      <td>Winston-Salem, NC</td>\n",
       "      <td>152</td>\n",
       "      <td>All Hands Against His Own</td>\n",
       "      <td>95</td>\n",
       "    </tr>\n",
       "  </tbody>\n",
       "</table>\n",
       "</div>"
      ],
      "text/plain": [
       "              artist   firstName gender  itemInSession lastName     length  \\\n",
       "1313  The Black Keys  Jacqueline      F             50    Lynch  196.91057   \n",
       "1839  The Black Keys       Tegan      F             25   Levine  196.91057   \n",
       "5282  The Black Keys        Sara      F             31  Johnson  196.91057   \n",
       "\n",
       "     level                           location  sessionId  \\\n",
       "1313  paid  Atlanta-Sandy Springs-Roswell, GA        559   \n",
       "1839  paid        Portland-South Portland, ME        611   \n",
       "5282  paid                  Winston-Salem, NC        152   \n",
       "\n",
       "                           song  userId  \n",
       "1313  All Hands Against His Own      29  \n",
       "1839  All Hands Against His Own      80  \n",
       "5282  All Hands Against His Own      95  "
      ]
     },
     "execution_count": 20,
     "metadata": {},
     "output_type": "execute_result"
    }
   ],
   "source": [
    "# STEP 01 - ANALYZE the data\n",
    "# Analyze the necessary columns for primary key in query 03\n",
    "event_df.head()\n",
    "event_df.query('song == \"All Hands Against His Own\"')"
   ]
  },
  {
   "cell_type": "markdown",
   "metadata": {
    "editable": true
   },
   "source": [
    "#### Primary Key identify each row because:\n",
    " - userId is necessary otherwise the select will display only one row. In this dataset there are three rows with song = 'All Hands Against His Own'\n",
    " - The song is the partition key, and the userId is the clustering column\n",
    " \n",
    " In this case song and userId identify each row in this table."
   ]
  },
  {
   "cell_type": "code",
   "execution_count": 21,
   "metadata": {
    "editable": true
   },
   "outputs": [],
   "source": [
    "# STEP 02 - CREATE table for query 03\n",
    "# Query 03: user name (first and last) where song = 'All Hands Against His Own'\n",
    "query = \"CREATE TABLE IF NOT EXISTS song_user \"\n",
    "query = query + \"(song_title text, user_id int, user_name text, user_last_name text, PRIMARY KEY (song_title, user_id))\"\n",
    "try:\n",
    "    session.execute(query)\n",
    "except Exception as e:\n",
    "    print(e)"
   ]
  },
  {
   "cell_type": "code",
   "execution_count": 22,
   "metadata": {
    "editable": true
   },
   "outputs": [],
   "source": [
    "# STEP 03 - INSERT data into table\n",
    "with open(file, encoding = 'utf8') as f:\n",
    "    csvreader = csv.reader(f)\n",
    "    next(csvreader) # skip header\n",
    "    for line in csvreader:\n",
    "# Assign the INSERT statements into the `query` variable\n",
    "        query = \"INSERT INTO song_user (song_title, user_id, user_name, user_last_name)\"\n",
    "        query = query + \" VALUES (%s, %s, %s, %s)\"\n",
    "        session.execute(query, (line[9], int(line[10]), line[1], line[4]))"
   ]
  },
  {
   "cell_type": "code",
   "execution_count": 23,
   "metadata": {
    "editable": true
   },
   "outputs": [
    {
     "name": "stdout",
     "output_type": "stream",
     "text": [
      "Row(tt=6618)\n"
     ]
    }
   ],
   "source": [
    "# STEP 04 - VALIDATION - VERIFY total of rows LOADED\n",
    "query_count = \"select count(*) as tt from song_user\"\n",
    "try:\n",
    "    rows = session.execute(query_count)\n",
    "except Exception as e:\n",
    "    print(e)\n",
    "\n",
    "for row in rows:\n",
    "    print (row)"
   ]
  },
  {
   "cell_type": "code",
   "execution_count": 24,
   "metadata": {
    "editable": true
   },
   "outputs": [
    {
     "name": "stdout",
     "output_type": "stream",
     "text": [
      "Row(song_title='All Hands Against His Own', user_name='Jacqueline', user_last_name='Lynch')\n",
      "Row(song_title='All Hands Against His Own', user_name='Tegan', user_last_name='Levine')\n",
      "Row(song_title='All Hands Against His Own', user_name='Sara', user_last_name='Johnson')\n"
     ]
    }
   ],
   "source": [
    "# STEP 05 - VALIDATION - VERIFY spcific information in table\n",
    "query = \"select song_title, user_name, user_last_name from song_user where song_title = 'All Hands Against His Own'\"\n",
    "try:\n",
    "    rows = session.execute(query)\n",
    "except Exception as e:\n",
    "    print(e)\n",
    "\n",
    "for row in rows:\n",
    "    print (row)"
   ]
  },
  {
   "cell_type": "code",
   "execution_count": 25,
   "metadata": {
    "editable": true
   },
   "outputs": [
    {
     "data": {
      "text/html": [
       "<div>\n",
       "<style scoped>\n",
       "    .dataframe tbody tr th:only-of-type {\n",
       "        vertical-align: middle;\n",
       "    }\n",
       "\n",
       "    .dataframe tbody tr th {\n",
       "        vertical-align: top;\n",
       "    }\n",
       "\n",
       "    .dataframe thead th {\n",
       "        text-align: right;\n",
       "    }\n",
       "</style>\n",
       "<table border=\"1\" class=\"dataframe\">\n",
       "  <thead>\n",
       "    <tr style=\"text-align: right;\">\n",
       "      <th></th>\n",
       "      <th>artist</th>\n",
       "      <th>song</th>\n",
       "      <th>firstName</th>\n",
       "      <th>lastName</th>\n",
       "      <th>itemInSession</th>\n",
       "      <th>userId</th>\n",
       "      <th>sessionId</th>\n",
       "    </tr>\n",
       "  </thead>\n",
       "  <tbody>\n",
       "    <tr>\n",
       "      <th>1313</th>\n",
       "      <td>The Black Keys</td>\n",
       "      <td>All Hands Against His Own</td>\n",
       "      <td>Jacqueline</td>\n",
       "      <td>Lynch</td>\n",
       "      <td>50</td>\n",
       "      <td>29</td>\n",
       "      <td>559</td>\n",
       "    </tr>\n",
       "    <tr>\n",
       "      <th>1839</th>\n",
       "      <td>The Black Keys</td>\n",
       "      <td>All Hands Against His Own</td>\n",
       "      <td>Tegan</td>\n",
       "      <td>Levine</td>\n",
       "      <td>25</td>\n",
       "      <td>80</td>\n",
       "      <td>611</td>\n",
       "    </tr>\n",
       "    <tr>\n",
       "      <th>5282</th>\n",
       "      <td>The Black Keys</td>\n",
       "      <td>All Hands Against His Own</td>\n",
       "      <td>Sara</td>\n",
       "      <td>Johnson</td>\n",
       "      <td>31</td>\n",
       "      <td>95</td>\n",
       "      <td>152</td>\n",
       "    </tr>\n",
       "  </tbody>\n",
       "</table>\n",
       "</div>"
      ],
      "text/plain": [
       "              artist                       song   firstName lastName  \\\n",
       "1313  The Black Keys  All Hands Against His Own  Jacqueline    Lynch   \n",
       "1839  The Black Keys  All Hands Against His Own       Tegan   Levine   \n",
       "5282  The Black Keys  All Hands Against His Own        Sara  Johnson   \n",
       "\n",
       "      itemInSession  userId  sessionId  \n",
       "1313             50      29        559  \n",
       "1839             25      80        611  \n",
       "5282             31      95        152  "
      ]
     },
     "execution_count": 25,
     "metadata": {},
     "output_type": "execute_result"
    }
   ],
   "source": [
    "# STEP 06 - VALIDATION - VERIFY spcific information in df origin\n",
    "event_df.head()\n",
    "columns = ['artist', 'song', 'firstName', 'lastName', 'itemInSession', 'userId', 'sessionId']\n",
    "user_df = event_df[columns]\n",
    "\n",
    "user_df.query('song == \"All Hands Against His Own\"')"
   ]
  },
  {
   "cell_type": "markdown",
   "metadata": {
    "editable": true
   },
   "source": [
    "### Drop the tables before closing out the sessions"
   ]
  },
  {
   "cell_type": "code",
   "execution_count": 26,
   "metadata": {
    "editable": true
   },
   "outputs": [],
   "source": [
    "## Drop the table before closing out the sessions\n",
    "query = \"drop table song_session\"\n",
    "try:\n",
    "    rows = session.execute(query)\n",
    "except Exception as e:\n",
    "    print(e)\n",
    "    \n",
    "query = \"drop table user_session\"\n",
    "try:\n",
    "    rows = session.execute(query)\n",
    "except Exception as e:\n",
    "    print(e)\n",
    "    \n",
    "query = \"drop table song_user\"\n",
    "try:\n",
    "    rows = session.execute(query)\n",
    "except Exception as e:\n",
    "    print(e)"
   ]
  },
  {
   "cell_type": "markdown",
   "metadata": {
    "editable": true
   },
   "source": [
    "### Close the session and cluster connection¶"
   ]
  },
  {
   "cell_type": "code",
   "execution_count": 27,
   "metadata": {
    "editable": true
   },
   "outputs": [],
   "source": [
    "session.shutdown()\n",
    "cluster.shutdown()"
   ]
  }
 ],
 "metadata": {
  "kernelspec": {
   "display_name": "Python 3",
   "language": "python",
   "name": "python3"
  },
  "language_info": {
   "codemirror_mode": {
    "name": "ipython",
    "version": 3
   },
   "file_extension": ".py",
   "mimetype": "text/x-python",
   "name": "python",
   "nbconvert_exporter": "python",
   "pygments_lexer": "ipython3",
   "version": "3.6.3"
  }
 },
 "nbformat": 4,
 "nbformat_minor": 4
}
